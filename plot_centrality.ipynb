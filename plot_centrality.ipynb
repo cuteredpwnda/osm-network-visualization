{
 "cells": [
  {
   "cell_type": "code",
   "execution_count": 2,
   "metadata": {},
   "outputs": [],
   "source": [
    "import osmnx as ox\n",
    "import networkx as nx\n",
    "from tqdm import tqdm\n",
    "import matplotlib.pyplot as plt\n",
    "import matplotlib.cm as cm\n",
    "\n",
    "%matplotlib inline\n",
    "ox.__version__\n",
    "ox.settings.log_console=True"
   ]
  },
  {
   "cell_type": "markdown",
   "metadata": {},
   "source": [
    "# Netzwerkgraphen erzeugen"
   ]
  },
  {
   "cell_type": "code",
   "execution_count": 3,
   "metadata": {},
   "outputs": [],
   "source": [
    "# modify the place name and desired network types\n",
    "place = \"Hoerde, Dortmund, Germany\"\n",
    "place_short = \"Hoerde\"\n",
    "\n",
    "G_BIKE = ox.graph_from_place(place, network_type=\"bike\")\n",
    "G_DRIVE = ox.graph_from_place(place, network_type=\"drive\")\n",
    "G_WALK = ox.graph_from_place(place, network_type=\"walk\")\n",
    "G_FULL = ox.graph_from_place(place, network_type=\"all\")\n",
    "graphs = {\"bike\": G_BIKE,\n",
    "          \"car\": G_DRIVE,\n",
    "          \"foot\": G_WALK,\n",
    "          \"full\": G_FULL}"
   ]
  },
  {
   "cell_type": "markdown",
   "metadata": {},
   "source": [
    "## Zentralität und Netzwerkstrukturen"
   ]
  },
  {
   "cell_type": "markdown",
   "metadata": {},
   "source": [
    "### Berechnung der Zentralität"
   ]
  },
  {
   "cell_type": "code",
   "execution_count": 4,
   "metadata": {},
   "outputs": [
    {
     "name": "stderr",
     "output_type": "stream",
     "text": [
      " 50%|█████     | 2/4 [00:17<00:14,  7.33s/it]"
     ]
    }
   ],
   "source": [
    "# convert graph to line graph so edges become nodes and vice versa\n",
    "for graph in tqdm(graphs.values()):\n",
    "    edge_centrality = nx.closeness_centrality(nx.line_graph(graph))\n",
    "    nx.set_edge_attributes(graph, edge_centrality, \"edge_centrality\")"
   ]
  },
  {
   "cell_type": "markdown",
   "metadata": {},
   "source": [
    "### Darstellung als Graph"
   ]
  },
  {
   "cell_type": "code",
   "execution_count": null,
   "metadata": {},
   "outputs": [],
   "source": [
    "for name, graph in tqdm(graphs.items()):\n",
    "    outpath = f'./output_data/images/{place_short}_{name}_edge_centrality.png'\n",
    "\n",
    "    # create a legend for the edge colors\n",
    "    nodes, edges = ox.graph_to_gdfs(graph, nodes=True, edges=True)  # Transforms nodes and edges into Geodataframes\"\n",
    "    cmap = plt.cm.get_cmap('inferno')\n",
    "    norm = plt.Normalize(vmin=edges['edge_centrality'].min(), vmax=edges['edge_centrality'].max())    \n",
    "    sm = cm.ScalarMappable(norm=norm, cmap=cmap)\n",
    "    sm.set_array([])\n",
    "\n",
    "    # color edges in original graph with closeness centralities from line graph\n",
    "    ec = ox.plot.get_edge_colors_by_attr(graph, \"edge_centrality\", cmap=cmap)\n",
    "    fig, ax = ox.plot_graph(graph, edge_color=ec, edge_linewidth=2, node_size=0, close=False, show=False)\n",
    "    \n",
    "    # set title, adjust y position\n",
    "    fig.suptitle(f'{name.capitalize()}map {place}', fontsize=14, fontweight='bold', y=0.75)\n",
    "\n",
    "    # colorbar\n",
    "    cb = fig.colorbar(cm.ScalarMappable(norm=norm, cmap=cmap), ax=ax, orientation='vertical', shrink=0.5)\n",
    "    cb.set_label('Zentralität', fontsize = 14)\n",
    "    \n",
    "    fig.savefig(outpath, dpi=600, bbox_inches='tight')"
   ]
  },
  {
   "cell_type": "markdown",
   "metadata": {},
   "source": [
    "## Speichern der Netzwerke"
   ]
  },
  {
   "cell_type": "code",
   "execution_count": null,
   "metadata": {},
   "outputs": [
    {
     "name": "stderr",
     "output_type": "stream",
     "text": [
      "100%|██████████| 4/4 [00:15<00:00,  3.89s/it]\n"
     ]
    }
   ],
   "source": [
    "\n",
    "# save street network as GeoPackage to work with in GIS\n",
    "for network_type, graph in tqdm(graphs.items()):\n",
    "    place_name = place.split(\",\")[0].lower()\n",
    "    outpath = f'./output_data/gpkg/{place_name}_{network_type}_network.gpkg'\n",
    "    ox.save_graph_geopackage(graph, filepath=outpath)"
   ]
  }
 ],
 "metadata": {
  "kernelspec": {
   "display_name": "Python 3.10.6 ('ox')",
   "language": "python",
   "name": "python3"
  },
  "language_info": {
   "codemirror_mode": {
    "name": "ipython",
    "version": 3
   },
   "file_extension": ".py",
   "mimetype": "text/x-python",
   "name": "python",
   "nbconvert_exporter": "python",
   "pygments_lexer": "ipython3",
   "version": "3.10.6"
  },
  "orig_nbformat": 4,
  "vscode": {
   "interpreter": {
    "hash": "3a5e29cf584d155800def173416869eb01280a4b2d766c2f7b8aadfefe411ad3"
   }
  }
 },
 "nbformat": 4,
 "nbformat_minor": 2
}
